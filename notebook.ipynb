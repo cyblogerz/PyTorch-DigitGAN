{
 "cells": [
  {
   "cell_type": "code",
   "execution_count": 2,
   "metadata": {},
   "outputs": [],
   "source": [
    "import torch,pdb\n",
    "from torch import nn\n",
    "from torch.utils.data import DataLoader\n",
    "from torchvision import transforms\n",
    "from torchvision.datasets import MNIST\n",
    "from torchvision.utils import make_grid\n",
    "from tqdm.auto import tqdm\n",
    "import matplotlib.pyplot as plt\n"
   ]
  },
  {
   "cell_type": "code",
   "execution_count": 3,
   "metadata": {},
   "outputs": [],
   "source": [
    "#Visualiztion function\n",
    "\n",
    "def show(tensor,ch = 1, size=(28,28),num=16):#ch=1 grayscale , num -> number of images you want to show\n",
    "    data=tensor.detach().cpu().view(-1,ch,size) #detach from computational graphs(remove variables and operations performed earlier\\\n",
    "    #.view -> restructure\n",
    "    grid = make_grid(data[:num],nrows=4).permute(1,2,0)#making the channel last dimension h,w,ch\n",
    "    plt.imshow(grid)\n",
    "    plt.show()"
   ]
  },
  {
   "cell_type": "code",
   "execution_count": 5,
   "metadata": {},
   "outputs": [],
   "source": [
    "epochs = 500\n",
    "cur_step = 0\n",
    "info_step = 300\n",
    "mean_gen_loss = 0\n",
    "mean_disc_loss = 0\n",
    "\n",
    "z_dim = 64\n",
    "lr = 0.0001\n",
    "loss_fn = nn.BCEWithLogitsLoss() #BCE with sigmoid\n",
    "\n",
    "batches = 128\n",
    "device = \"mps\" if torch.backends.mps.is_available() else \"cpu\"\n"
   ]
  },
  {
   "cell_type": "code",
   "execution_count": 8,
   "metadata": {},
   "outputs": [],
   "source": [
    "dataloader = DataLoader(MNIST('.',download=True,transform=transforms.ToTensor()),shuffle = True,batch_size = batches)"
   ]
  },
  {
   "cell_type": "code",
   "execution_count": 9,
   "metadata": {},
   "outputs": [],
   "source": [
    "#Generator\n",
    "\n",
    "def genBlock(inp,out):\n",
    "    return nn.Sequential(\n",
    "        nn.Linear(inp,out),\n",
    "        nn.BatchNorm1d(out),\n",
    "        nn.ReLU(inplace=True)\n",
    "    )\n",
    "\n",
    "\n",
    "\n",
    "class Generator(nn.Module):\n",
    "    def __init__(self, z_dim=64,i_dim = 28*28,h_dim = 128) -> None: #i_dim -> output image dimension , hidden layer size -> 128,z_dim -> noise\n",
    "        super().__init__()\n",
    "        self.gen = nn.Sequential(\n",
    "            genBlock(z_dim,h_dim),\n",
    "            genBlock(h_dim, h_dim*2),\n",
    "            genBlock(h_dim*2, h_dim*4),\n",
    "            genBlock(h_dim*4,h_dim*8),\n",
    "            nn.Linear(h_dim*8,i_dim),\n",
    "            nn.Sigmoid()#between 0 and one , pixel values\n",
    "        )\n",
    "\n",
    "        def forward(self,noise):\n",
    "            return self.gen(noise)\n",
    "\n",
    "\n",
    "def gen_noise(number,z_dim):\n",
    "    return torch.randn(number,z_dim).to(device)\n",
    "\n"
   ]
  },
  {
   "cell_type": "code",
   "execution_count": 10,
   "metadata": {},
   "outputs": [],
   "source": [
    "def discBlock(inp,out):\n",
    "    return nn.Sequential(\n",
    "        nn.Linear(inp,out),\n",
    "        nn.LeakyReLU(0.2),\n",
    "    )\n",
    "\n",
    "class Discriminator(nn.Module):\n",
    "    def __init__(self,i_dim = 28*28, h_dim=256) -> None:\n",
    "        super().__init__()\n",
    "        self.disc= nn.Sequential(\n",
    "            discBlock(i_dim,h_dim*4), #Discriminator starts with high h_dim\n",
    "            discBlock(h_dim*4,h_dim*2),\n",
    "            discBlock(h_dim*2,h_dim),\n",
    "            nn.Linear(h_dim,1),\n",
    "            \n",
    "        )\n",
    "\n",
    "    def forward(self,image):\n",
    "        return self.disc(image)\n",
    "    \n",
    "        \n",
    "    \n",
    "        "
   ]
  },
  {
   "cell_type": "code",
   "execution_count": null,
   "metadata": {},
   "outputs": [],
   "source": []
  }
 ],
 "metadata": {
  "kernelspec": {
   "display_name": "ptorch",
   "language": "python",
   "name": "python3"
  },
  "language_info": {
   "codemirror_mode": {
    "name": "ipython",
    "version": 3
   },
   "file_extension": ".py",
   "mimetype": "text/x-python",
   "name": "python",
   "nbconvert_exporter": "python",
   "pygments_lexer": "ipython3",
   "version": "3.11.3"
  },
  "orig_nbformat": 4
 },
 "nbformat": 4,
 "nbformat_minor": 2
}
