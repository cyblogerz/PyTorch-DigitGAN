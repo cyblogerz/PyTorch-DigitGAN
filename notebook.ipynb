{
 "cells": [
  {
   "cell_type": "code",
   "execution_count": 2,
   "metadata": {},
   "outputs": [
    {
     "name": "stderr",
     "output_type": "stream",
     "text": [
      "/Users/pranavajay/miniconda3/envs/ptorch/lib/python3.11/site-packages/tqdm/auto.py:21: TqdmWarning: IProgress not found. Please update jupyter and ipywidgets. See https://ipywidgets.readthedocs.io/en/stable/user_install.html\n",
      "  from .autonotebook import tqdm as notebook_tqdm\n"
     ]
    }
   ],
   "source": [
    "import torch,pdb\n",
    "from torch import nn\n",
    "from torch.utils.data import DataLoader\n",
    "from torchvision import transforms\n",
    "from torchvision.datasets import MNIST\n",
    "from torchvision.utils import make_grid\n",
    "from tqdm.auto import tqdm\n",
    "import matplotlib.pyplot as plt\n"
   ]
  },
  {
   "cell_type": "code",
   "execution_count": 30,
   "metadata": {},
   "outputs": [],
   "source": [
    "\n",
    "\n",
    "def show(tensor, ch=1, size=(28, 28), num=16):\n",
    "    data = tensor.detach().cpu().view(-1, ch, size[0], size[1])  # Detach, move to CPU, and reshape\n",
    "    #size[0] and 1 X and y axis\n",
    "    grid = make_grid(data[:num], nrow=4)  # Create grid with the correct shape\n",
    "    grid = grid.permute(1, 2, 0)  # Permute dimensions for display (h, w, ch)\n",
    "    plt.imshow(grid)\n",
    "    plt.show()\n"
   ]
  },
  {
   "cell_type": "code",
   "execution_count": 4,
   "metadata": {},
   "outputs": [],
   "source": [
    "epochs = 500\n",
    "cur_step = 0\n",
    "info_step = 300\n",
    "mean_gen_loss = 0\n",
    "mean_disc_loss = 0\n",
    "\n",
    "z_dim = 64\n",
    "lr = 0.0001\n",
    "loss_fn = nn.BCEWithLogitsLoss() #BCE with sigmoid\n",
    "\n",
    "batches = 128\n",
    "device = \"mps\" if torch.backends.mps.is_available() else \"cpu\"\n"
   ]
  },
  {
   "cell_type": "code",
   "execution_count": 5,
   "metadata": {},
   "outputs": [],
   "source": [
    "dataloader = DataLoader(MNIST('.',download=True,transform=transforms.ToTensor()),shuffle = True,batch_size = batches)"
   ]
  },
  {
   "cell_type": "code",
   "execution_count": 14,
   "metadata": {},
   "outputs": [],
   "source": [
    "#Generator\n",
    "\n",
    "def genBlock(inp,out):\n",
    "    return nn.Sequential(\n",
    "        nn.Linear(inp,out),\n",
    "        nn.BatchNorm1d(out),\n",
    "        nn.ReLU(inplace=True)\n",
    "    )\n",
    "\n",
    "\n",
    "\n",
    "class Generator(nn.Module):\n",
    "    def __init__(self, z_dim=64,i_dim = 28*28,h_dim = 128) -> None: #i_dim -> output image dimension , hidden layer size -> 128,z_dim -> noise\n",
    "        super().__init__()\n",
    "        self.gen = nn.Sequential(\n",
    "            genBlock(z_dim,h_dim),\n",
    "            genBlock(h_dim, h_dim*2),\n",
    "            genBlock(h_dim*2, h_dim*4),\n",
    "            genBlock(h_dim*4,h_dim*8),\n",
    "            nn.Linear(h_dim*8,i_dim),\n",
    "            nn.Sigmoid()#between 0 and one , pixel values\n",
    "        )\n",
    "\n",
    "    def forward(self,noise):\n",
    "        return self.gen(noise)\n",
    "\n",
    "\n",
    "def gen_noise(number,z_dim):\n",
    "    return torch.randn(number,z_dim).to(device)\n",
    "\n"
   ]
  },
  {
   "cell_type": "code",
   "execution_count": 15,
   "metadata": {},
   "outputs": [],
   "source": [
    "def discBlock(inp,out):\n",
    "    return nn.Sequential(\n",
    "        nn.Linear(inp,out),\n",
    "        nn.LeakyReLU(0.2),\n",
    "    )\n",
    "\n",
    "class Discriminator(nn.Module):\n",
    "    def __init__(self,i_dim = 28*28, h_dim=256) -> None:\n",
    "        super().__init__()\n",
    "        self.disc= nn.Sequential(\n",
    "            discBlock(i_dim,h_dim*4), #Discriminator starts with high h_dim\n",
    "            discBlock(h_dim*4,h_dim*2),\n",
    "            discBlock(h_dim*2,h_dim),\n",
    "            nn.Linear(h_dim,1),\n",
    "            \n",
    "        )\n",
    "\n",
    "    def forward(self,image):\n",
    "        return self.disc(image)\n",
    "    \n",
    "        \n",
    "    \n",
    "        "
   ]
  },
  {
   "cell_type": "code",
   "execution_count": 16,
   "metadata": {},
   "outputs": [],
   "source": [
    "gen = Generator(z_dim).to(device)\n",
    "gen_opt = torch.optim.Adam(gen.parameters(),lr = lr)\n",
    "\n",
    "\n",
    "disc =Discriminator().to(device)\n",
    "disc_opt = torch.optim.Adam(disc.parameters(),lr = lr)"
   ]
  },
  {
   "cell_type": "code",
   "execution_count": 17,
   "metadata": {},
   "outputs": [
    {
     "data": {
      "text/plain": [
       "Generator(\n",
       "  (gen): Sequential(\n",
       "    (0): Sequential(\n",
       "      (0): Linear(in_features=64, out_features=128, bias=True)\n",
       "      (1): BatchNorm1d(128, eps=1e-05, momentum=0.1, affine=True, track_running_stats=True)\n",
       "      (2): ReLU(inplace=True)\n",
       "    )\n",
       "    (1): Sequential(\n",
       "      (0): Linear(in_features=128, out_features=256, bias=True)\n",
       "      (1): BatchNorm1d(256, eps=1e-05, momentum=0.1, affine=True, track_running_stats=True)\n",
       "      (2): ReLU(inplace=True)\n",
       "    )\n",
       "    (2): Sequential(\n",
       "      (0): Linear(in_features=256, out_features=512, bias=True)\n",
       "      (1): BatchNorm1d(512, eps=1e-05, momentum=0.1, affine=True, track_running_stats=True)\n",
       "      (2): ReLU(inplace=True)\n",
       "    )\n",
       "    (3): Sequential(\n",
       "      (0): Linear(in_features=512, out_features=1024, bias=True)\n",
       "      (1): BatchNorm1d(1024, eps=1e-05, momentum=0.1, affine=True, track_running_stats=True)\n",
       "      (2): ReLU(inplace=True)\n",
       "    )\n",
       "    (4): Linear(in_features=1024, out_features=784, bias=True)\n",
       "    (5): Sigmoid()\n",
       "  )\n",
       ")"
      ]
     },
     "execution_count": 17,
     "metadata": {},
     "output_type": "execute_result"
    }
   ],
   "source": [
    "gen"
   ]
  },
  {
   "cell_type": "code",
   "execution_count": 10,
   "metadata": {},
   "outputs": [
    {
     "data": {
      "text/plain": [
       "Discriminator(\n",
       "  (disc): Sequential(\n",
       "    (0): Sequential(\n",
       "      (0): Linear(in_features=784, out_features=1024, bias=True)\n",
       "      (1): LeakyReLU(negative_slope=0.2)\n",
       "    )\n",
       "    (1): Sequential(\n",
       "      (0): Linear(in_features=1024, out_features=512, bias=True)\n",
       "      (1): LeakyReLU(negative_slope=0.2)\n",
       "    )\n",
       "    (2): Sequential(\n",
       "      (0): Linear(in_features=512, out_features=256, bias=True)\n",
       "      (1): LeakyReLU(negative_slope=0.2)\n",
       "    )\n",
       "    (3): Linear(in_features=256, out_features=1, bias=True)\n",
       "  )\n",
       ")"
      ]
     },
     "execution_count": 10,
     "metadata": {},
     "output_type": "execute_result"
    }
   ],
   "source": [
    "disc"
   ]
  },
  {
   "cell_type": "code",
   "execution_count": 29,
   "metadata": {},
   "outputs": [
    {
     "name": "stdout",
     "output_type": "stream",
     "text": [
      "torch.Size([128, 1, 28, 28]) torch.Size([128])\n",
      "tensor([2, 9, 2, 0, 6, 4, 0, 3, 3, 5])\n"
     ]
    },
    {
     "data": {
      "image/png": "[encoded data removed]",
      "text/plain": [
       "<Figure size 640x480 with 1 Axes>"
      ]
     },
     "metadata": {},
     "output_type": "display_data"
    }
   ],
   "source": [
    "X,y = next(iter(dataloader))\n",
    "print(X.shape,y.shape)\n",
    "print(y[:10])\n",
    "\n",
    "noise = gen_noise(batches,z_dim)\n",
    "fake = gen(noise)\n",
    "show(fake)"
   ]
  },
  {
   "cell_type": "code",
   "execution_count": null,
   "metadata": {},
   "outputs": [],
   "source": []
  }
 ],
 "metadata": {
  "kernelspec": {
   "display_name": "ptorch",
   "language": "python",
   "name": "python3"
  },
  "language_info": {
   "codemirror_mode": {
    "name": "ipython",
    "version": 3
   },
   "file_extension": ".py",
   "mimetype": "text/x-python",
   "name": "python",
   "nbconvert_exporter": "python",
   "pygments_lexer": "ipython3",
   "version": "3.11.3"
  },
  "orig_nbformat": 4
 },
 "nbformat": 4,
 "nbformat_minor": 2
}
